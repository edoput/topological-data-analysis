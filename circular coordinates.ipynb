{
 "cells": [
  {
   "cell_type": "code",
   "execution_count": 1,
   "metadata": {},
   "outputs": [],
   "source": [
    "%load_ext ipython_namespaces\n",
    "\n",
    "import numpy as np\n",
    "from ripser import ripser\n",
    "from numpy.linalg import pinv as pseudoinverse\n",
    "import matplotlib.pyplot as plt\n",
    "\n",
    "from persim import plot_diagrams\n",
    "\n",
    "def scatter_cocycle(distance, points, cocycle, threshold):\n",
    "    \"\"\"Plot a cocycle at threshold.\n",
    "    \n",
    "    :note: susbstitute to plotCocycle2D for performance reasons\n",
    "    \n",
    "    :warning: it does only plots the edges available at threshold\n",
    "    \"\"\"\n",
    "    under_threshold = (distance < threshold) & (distance > 0)\n",
    "    # now for every edge under the threshold we want to plot\n",
    "    # the edge with some fancy color and the value of our co-cycle\n",
    "    # on that edge\n",
    "    edges = np.transpose(np.triu(under_threshold).astype(int).nonzero())\n",
    "    edges_coords = points[edges] # for every tuple (edge, start, end) there is an entry\n",
    "    xs, ys = edges_coords[:,:,0], edges_coords[:,:,1]\n",
    "    l_xs, l_ys = np.linspace(xs[:,0], xs[:,1], num=10), np.linspace(ys[:,0], ys[:,1], num=10)\n",
    "    plt.plot(l_xs, l_ys)\n"
   ]
  },
  {
   "cell_type": "code",
   "execution_count": 2,
   "metadata": {},
   "outputs": [],
   "source": [
    "def border_matrix(lv, le):\n",
    "    \"\"\"Computes the border matrix.\n",
    "    \n",
    "    Yes it's quadratic (len(lv) * len(le)) but who cares now.\n",
    "    \n",
    "    :param lv: list of vertices\n",
    "    :type lv: numpy.ndarray\n",
    "    :param le: list of edges\n",
    "    :type le: numpy.ndarray\n",
    "    \n",
    "    :return: the border matrix\n",
    "    :rtype: numpy.ndarray\n",
    "    \"\"\"\n",
    "    columns = len(lv)\n",
    "    rows = len(le)\n",
    "    M = np.zeros((rows, columns))\n",
    "    for c, vertex in enumerate(lv):\n",
    "        for r, edge in enumerate(le):\n",
    "            if vertex in edge:\n",
    "                start, end = edge[0], edge[1]\n",
    "                M[r,c] = 1 if vertex == start else -1\n",
    "    return M\n",
    "\n",
    "def basis_from_edges(E):\n",
    "    \"\"\"Returns a sequence of the edges from the matrix E.\n",
    "    \n",
    "    Given the edge matrix we compute the basis\n",
    "    for the chains by taking all the edges from E\n",
    "    and returning the pairs [i,j].\n",
    "    \n",
    "    :param E: the edges matrix.\n",
    "    :type E: numpy.ndarray\n",
    "    \n",
    "    :return: sequence of edges in form [i,j]\n",
    "    :rtype: numpy.ndarray\n",
    "    \"\"\"\n",
    "    ones = np.triu(E)\n",
    "    return np.transpose(ones.nonzero())\n",
    "\n",
    "def from_distance(D, threshold=np.infty):\n",
    "    \"\"\"Returns the operator matrix associated to the threshold filtration.\n",
    "    \n",
    "    :param D: The distance matrix for your data set.\n",
    "    :type D: numpy.ndarry, shape = (k,k)\n",
    "    \n",
    "    :param threshold: edges longer than threshold will not be computed.\n",
    "    :type threshold: np.single | np.double | float\n",
    "    \n",
    "    :return: (matrix associated with (co)-border operator, edges matrix, edges base)\n",
    "    \n",
    "    :rtype: (numpy.ndarray, numpy.ndarray, numpy.ndarray)\n",
    "    \n",
    "    :important: the return matrix is expressed in the edge base\n",
    "    \"\"\"\n",
    "    under_threshold = (D <= threshold) & (D > 0)\n",
    "    edges = under_threshold.astype(int)\n",
    "    # there is an edge between r and c when edges[r,c] == 1\n",
    "    # but we need to put the correct sign in the (co)border\n",
    "    # matrix as it is 1 IFF r < c and -1 otherwise\n",
    "    ones = np.triu(edges)\n",
    "    edge_base = basis_from_edges(ones)\n",
    "    oriented_edges = ones - ones.T\n",
    "    # now we have edges with orientation and we can compute\n",
    "    # our border matrix in the basis computed\n",
    "    (vertices_num, _) = D.shape\n",
    "    matrix = border_matrix(range(vertices_num), edge_base)\n",
    "    return matrix, oriented_edges, edge_base"
   ]
  },
  {
   "cell_type": "code",
   "execution_count": 3,
   "metadata": {},
   "outputs": [],
   "source": [
    "%%space scratch\n",
    "# let's make the distance for a triangle\n",
    "distance = np.array([\n",
    "    [0, 3, 4],\n",
    "    [3, 0, 6],\n",
    "    [4, 5, 0]\n",
    "])\n",
    "\n",
    "op, edges, basis = from_distance(distance)"
   ]
  },
  {
   "cell_type": "code",
   "execution_count": 4,
   "metadata": {},
   "outputs": [],
   "source": [
    "def transform_basis(alpha, basis):\n",
    "    \"\"\"Transform the co-cycle alpha to a vector\n",
    "    represented in basis.\n",
    "    \n",
    "    :param alpha: rows of k columns, up to k-1 are the vertices of\n",
    "    my simplex, column k is the coefficent\n",
    "    :type alpha: numpy.ndarray\n",
    "    \n",
    "    :param basis: rows containing the simplicis in my basis\n",
    "    :type basis: numpy.ndarray\n",
    "    \n",
    "    :return: alpha represented in basis\n",
    "    :rtype: numpy.ndarray\n",
    "    \"\"\"\n",
    "    components = np.zeros((1, len(basis)), dtype=int)\n",
    "    for a in alpha:\n",
    "        for i, b in enumerate(basis):\n",
    "            if np.all(a[:2] == b):\n",
    "                components[0, i] = a[2]\n",
    "                break\n",
    "        else:\n",
    "            # this will be executed if\n",
    "            # break is never reached\n",
    "            raise ValueError(\"simplex {} is not in basis\".format(a[:-1]))\n",
    "    return components\n",
    "\n",
    "def circular_coordinates(p):\n",
    "    \"\"\"Transform to circular coordinates.\n",
    "    \n",
    "    Returns the same coordinates but modulo Z\n",
    "    and in the range [0,1)\n",
    "    \n",
    "    :param p: coordinates\n",
    "    :type p: numpy.ndarray\n",
    "    :rtype: numpy.ndarray\n",
    "    \"\"\"\n",
    "    fractional = p - np.trunc(p)\n",
    "    correction = np.floor(fractional)\n",
    "    return fractional - correction"
   ]
  },
  {
   "cell_type": "code",
   "execution_count": 25,
   "metadata": {},
   "outputs": [],
   "source": [
    "%%space scratch\n",
    "\n",
    "a = np.array([\n",
    "    [0, 1, 16],\n",
    "    [0, 2, 1]\n",
    "])\n",
    "b = np.array([\n",
    "    [0, 1, 16],\n",
    "    [0, 2, 1]\n",
    "])\n",
    "basis = np.array([\n",
    "    [0,2],\n",
    "    [0,1],\n",
    "    [1,2],\n",
    "])\n",
    "# outputs array([1, 1, 0])\n",
    "transform_basis(a, basis)\n",
    "# outputs array([1, 16, 0])\n",
    "transform_basis(b, basis)\n",
    "\n",
    "error = np.array([\n",
    "    [1, 0, 1] # the simplex [0,1] is not in the basis\n",
    "])\n",
    "try:\n",
    "    # this will error\n",
    "    transform_basis(error, basis)\n",
    "except:\n",
    "    ..."
   ]
  },
  {
   "cell_type": "code",
   "execution_count": 26,
   "metadata": {},
   "outputs": [
    {
     "data": {
      "text/plain": [
       "array([3.33333333e-01, 6.66666667e-01, 5.48387791e-17])"
      ]
     },
     "execution_count": 26,
     "metadata": {},
     "output_type": "execute_result"
    }
   ],
   "source": [
    "%%space scratch\n",
    "\n",
    "from numpy.linalg import pinv as pseudoinverse\n",
    "# compute the example matrix from the assignment\n",
    "m = np.array([\n",
    "    [-1, 1, 0],\n",
    "    [-1, 0, 1],\n",
    "    [0, -1, 1]\n",
    "])\n",
    "p = pseudoinverse(m)\n",
    "circular_coordinates(p @ (- np.array([1, 0,0])))"
   ]
  },
  {
   "cell_type": "code",
   "execution_count": 27,
   "metadata": {},
   "outputs": [],
   "source": [
    "def close_enough(vertices, distance, threshold=np.infty):\n",
    "    \"\"\"Compute if all vertex pairs are close enought.\n",
    "    \n",
    "    :param vertices: vertices in our n-cycle\n",
    "    :type vertices: sequence\n",
    "    \n",
    "    :param distance: distance(i,j) return the distance between i and j\n",
    "    :type distance: callable\n",
    "    \n",
    "    :param threshold: threshold distance\n",
    "    :type threshold: float\n",
    "    \n",
    "    :rtype: bool\n",
    "    \"\"\"\n",
    "    for i, vertex in enumerate(vertices):\n",
    "        for other in vertices[i+1:]:\n",
    "            if distance(vertex, other) > threshold:\n",
    "                return False\n",
    "    return True\n",
    "\n",
    "def project(alpha, distance, threshold=np.infty):\n",
    "    \"\"\"Compute the representative (co)-cycle in the threshold filtration.\n",
    "    \n",
    "    :param alpha: the (co)-cycle to project\n",
    "    :type alpha: numpy.ndarray\n",
    "    \n",
    "    :param distance: distance(i,j) return the distance between i and j.\n",
    "    :type distance: callable\n",
    "    \n",
    "    :param threshold: exclude simplices over threshold\n",
    "    :type threshold: float\n",
    "    \n",
    "    :return: alpha without the simplices over the threshold\n",
    "    :rtype: numpy.ndarray\n",
    "    \"\"\"\n",
    "    (r, _) = alpha.shape\n",
    "    mask = np.full(r, False, dtype=bool)\n",
    "    for i, simplex in enumerate(alpha):\n",
    "        if close_enough(simplex[:-1], distance, threshold):\n",
    "            mask[i] = True\n",
    "    if not any(mask):\n",
    "        raise ValueError(\"The feature does not exist for time: {}\".format(threshold))\n",
    "    return alpha[mask]\n",
    "\n",
    "def compute(D, alpha, r, prime):\n",
    "    \"\"\"Compute circulare coordinates for alpha.\n",
    "    \n",
    "    :param D: Distance matrix\n",
    "    :param alpha: representative co-cycle\n",
    "    :param r: threshold\n",
    "    :param prime: prime field coefficients\n",
    "    \n",
    "    :return:\n",
    "    \"\"\"\n",
    "    def distance(i, j):\n",
    "        \"\"\"wraps distance matrix to make it callable\"\"\"\n",
    "        return D[i,j]\n",
    "    alpha_r = project(alpha, distance, r)\n",
    "    lift = np.copy(alpha_r)\n",
    "    cap = (prime-1)/2\n",
    "    to_reduce = (alpha_r[:,-1] > cap).astype(int) # place a 1 when bigger than cap\n",
    "    lift[:,-1] = alpha_r[:,-1] - prime * to_reduce\n",
    "    border, edges, basis = from_distance(D) # we are doing co-homology so the border operator is what we want\n",
    "    b = transform_basis(lift, basis)\n",
    "    p = pseudoinverse(border)\n",
    "    y = p @ (- b.T)\n",
    "    return circular_coordinates(y)"
   ]
  },
  {
   "cell_type": "code",
   "execution_count": 28,
   "metadata": {},
   "outputs": [
    {
     "data": {
      "text/plain": [
       "(array([[ 0.66666667],\n",
       "        [ 0.33333333],\n",
       "        [-0.33333333]]),\n",
       " array([[0.66666667],\n",
       "        [0.33333333],\n",
       "        [0.66666667]]))"
      ]
     },
     "execution_count": 28,
     "metadata": {},
     "output_type": "execute_result"
    }
   ],
   "source": [
    "%%space scratch\n",
    "\n",
    "compute(distance, a, np.infty, 17)"
   ]
  },
  {
   "cell_type": "markdown",
   "metadata": {},
   "source": [
    "We are ready to do the analys as requested.\n",
    "\n",
    "Here we sample 100 points from the circle and we will get circular coordinates for each one of them.\n",
    "\n",
    "This means that for our cocyle $\\alpha$ we will find a $\\beta = \\iota \\alpha + \\partial^{0}(f)$ in the same class.\n",
    "\n",
    "What we care for is the values of $f$ on the vertices."
   ]
  },
  {
   "cell_type": "code",
   "execution_count": 9,
   "metadata": {},
   "outputs": [],
   "source": [
    "%%space deterministic-circle\n",
    "\n",
    "N=100\n",
    "t = np.linspace(0, 2*3.1415,N , endpoint=False)\n",
    "x = np.transpose([np.cos(t), np.sin(t)])\n",
    "\n",
    "result = ripser(x, coeff=2, maxdim=2, do_cocycles=True)\n",
    "\n",
    "alpha = result['cocycles'][1][-1] # take the last 1-dim (co)cycle\n",
    "birth_time, death_time = result['dgms'][0][-1]\n",
    "D = result['dperm2all']\n",
    "\n",
    "f = compute(D, alpha, death_time - 1e-10, 2)"
   ]
  },
  {
   "cell_type": "markdown",
   "metadata": {},
   "source": [
    "Now that we have our values for $f$ we can plot the geometrical realization of our points\n",
    "and color code them using the circular coordinates."
   ]
  },
  {
   "cell_type": "code",
   "execution_count": 10,
   "metadata": {},
   "outputs": [
    {
     "data": {
      "text/plain": [
       "<matplotlib.collections.PathCollection at 0x7f17e6bb7490>"
      ]
     },
     "execution_count": 10,
     "metadata": {},
     "output_type": "execute_result"
    },
    {
     "data": {
      "image/png": "[encoded data removed]",
      "text/plain": [
       "<Figure size 432x288 with 1 Axes>"
      ]
     },
     "metadata": {
      "needs_background": "light"
     },
     "output_type": "display_data"
    }
   ],
   "source": [
    "%%space deterministic-circle\n",
    "plt.scatter(x[:,0], x[:,1], f)"
   ]
  },
  {
   "cell_type": "code",
   "execution_count": 20,
   "metadata": {},
   "outputs": [],
   "source": [
    "result = ripser()"
   ]
  }
 ],
 "metadata": {
  "kernelspec": {
   "display_name": "Python 3",
   "language": "python",
   "name": "python3"
  },
  "language_info": {
   "codemirror_mode": {
    "name": "ipython",
    "version": 3
   },
   "file_extension": ".py",
   "mimetype": "text/x-python",
   "name": "python",
   "nbconvert_exporter": "python",
   "pygments_lexer": "ipython3",
   "version": "3.7.7"
  }
 },
 "nbformat": 4,
 "nbformat_minor": 4
}
