{
 "cells": [
  {
   "cell_type": "code",
   "execution_count": 21,
   "metadata": {},
   "outputs": [],
   "source": [
    "import numpy as np\n",
    "from ripser import ripser\n"
   ]
  },
  {
   "cell_type": "code",
   "execution_count": 22,
   "metadata": {},
   "outputs": [],
   "source": [
    "def coborder_matrix(lv, le):\n",
    "    \"\"\"\n",
    "    Create the coborder matrix for the list of\n",
    "    vertices lv in the basis given by the list of edges le.\n",
    "    \n",
    "    Yes it's quadratic (len(lv) * len(le)) but who cares now.\n",
    "    \n",
    "    T : can be compared for equality\n",
    "    lv: list of T\n",
    "    le: list of sequence(T)\n",
    "    \"\"\"\n",
    "    columns = len(lv)\n",
    "    rows = len(le)\n",
    "    M = np.zeros((rows, columns))\n",
    "    for c, vertex in enumerate(lv):\n",
    "        for r, edge in enumerate(le):\n",
    "            if vertex in edge:\n",
    "                start, end = edge[0], edge[1]\n",
    "                M[r,c] = -1 if vertex == start else 1\n",
    "    return M\n",
    "\n",
    "import enum\n",
    "class Operator(enum.Enum):\n",
    "    BORDER = 0\n",
    "    CO_BORDER = 1\n",
    "\n",
    "def from_distance(D, operator=Operator.BORDER, threshold=np.infty):\n",
    "    \"\"\"Returns the operator matrix associated to the threshold filtration.\n",
    "    \n",
    "    :param D: The distance matrix for your data set.\n",
    "    :type D: numpy.ndarry, shape = (k,k)\n",
    "    \n",
    "    :param operator: which operator matrix to compute.\n",
    "    :type operator: Operator\n",
    "    \n",
    "    :param threshold: edges longer than threshold will not be computed.\n",
    "    :type threshold: np.single | np.double | float\n",
    "    \n",
    "    :return: (matrix associated with (co)-border operator, edges matrix)\n",
    "    \n",
    "    :rtype: (numpy.ndarray, numpy.ndarray)\n",
    "    \n",
    "    The return matrix is expressed in the lexicographic ordered base.\n",
    "    For vertices 0,1,...,n the first n+1 columns will be vertices\n",
    "    and the remaining will be the edges [i,j].\n",
    "    \n",
    "    :warning: edges such as [i,i] are excluded\n",
    "    \"\"\"\n",
    "    # edges[r,c] == True if there is an edge from r to c\n",
    "    # that fits the threshold distance\n",
    "    under_threshold = (D <= threshold) & (D > 0)\n",
    "    edges = under_threshold.astype(int)\n",
    "    # there is an edge between r and c when edges[r,c] == 1\n",
    "    # but we need to put the correct sign in the (co)border\n",
    "    # matrix as it is 1 IFF r < c and -1 otherwise\n",
    "    ones = np.triu(edges)\n",
    "    oriented_edges = ones - ones.T\n",
    "    # now we have edges with orientation and we can compute\n",
    "    # our border matrix\n",
    "    (vertices_num, _) = D.shape\n",
    "    basis_dimension = vertices_num * (vertices_num + 1)\n",
    "    matrix = np.zeros((basis_dimension, basis_dimension), dtype=int)\n",
    "    iterator = np.nditer(oriented_edges, flags=['multi_index'])\n",
    "    edges_num = vertices_num *(vertices_num -1)\n",
    "    while not iterator.finished:\n",
    "        (start, end) = iterator.multi_index\n",
    "        #if start == end: # there cannot be an edge on the same vertex\n",
    "        #    iterator.iternext()\n",
    "        #    continue\n",
    "        if iterator[0] == 1:\n",
    "            # there is an edge from start to end\n",
    "            column = vertices_num * (start + 1) + end\n",
    "            matrix[start, column] = 1\n",
    "            matrix[end, column] = -1\n",
    "        iterator.iternext()\n",
    "    # we also have put in the basis edges such as (i,i)\n",
    "    # which should not be there\n",
    "    # fortunately this is an easy list of columne/rows to drop\n",
    "    drop = [vertices_num * (i + 1) + i for i in range(vertices_num)]\n",
    "    wo_columns = np.delete(matrix, drop, axis=1)\n",
    "    wo_rows = np.delete(wo_columns, drop, axis=0)        \n",
    "    return wo_rows if operator is Operator.BORDER else wo_rows.T, oriented_edges"
   ]
  },
  {
   "cell_type": "code",
   "execution_count": 23,
   "metadata": {},
   "outputs": [
    {
     "data": {
      "text/plain": [
       "array([[ 0,  0,  0,  0,  0,  0,  0,  0,  0],\n",
       "       [ 0,  0,  0,  0,  0,  0,  0,  0,  0],\n",
       "       [ 0,  0,  0,  0,  0,  0,  0,  0,  0],\n",
       "       [ 1, -1,  0,  0,  0,  0,  0,  0,  0],\n",
       "       [ 1,  0, -1,  0,  0,  0,  0,  0,  0],\n",
       "       [ 0,  0,  0,  0,  0,  0,  0,  0,  0],\n",
       "       [ 0,  1, -1,  0,  0,  0,  0,  0,  0],\n",
       "       [ 0,  0,  0,  0,  0,  0,  0,  0,  0],\n",
       "       [ 0,  0,  0,  0,  0,  0,  0,  0,  0]])"
      ]
     },
     "execution_count": 23,
     "metadata": {},
     "output_type": "execute_result"
    }
   ],
   "source": [
    "# let's make the distance for a triangle\n",
    "distance = np.array([\n",
    "    [0, 3, 4],\n",
    "    [3, 0, 6],\n",
    "    [4, 5, 0]\n",
    "])\n",
    "\n",
    "co_border, edges = from_distance(distance, operator=Operator.CO_BORDER)\n",
    "co_border"
   ]
  },
  {
   "cell_type": "code",
   "execution_count": 24,
   "metadata": {},
   "outputs": [],
   "source": [
    "def circular_coordinates(p):\n",
    "    \"\"\"Transform to circular coordinates.\n",
    "    \n",
    "    Returns the same coordinates but modulo Z\n",
    "    and in the range [0,1)\n",
    "    \n",
    "    :param p: coordinates\n",
    "    :type p: numpy.ndarray\n",
    "    :rtype: numpy.ndarray\n",
    "    \"\"\"\n",
    "    fractional = p - np.trunc(p)\n",
    "    correction = np.floor(fractional)\n",
    "    return fractional - correction"
   ]
  },
  {
   "cell_type": "code",
   "execution_count": 25,
   "metadata": {},
   "outputs": [
    {
     "data": {
      "text/plain": [
       "array([3.33333333e-01, 6.66666667e-01, 5.48387791e-17])"
      ]
     },
     "execution_count": 25,
     "metadata": {},
     "output_type": "execute_result"
    }
   ],
   "source": [
    "from numpy.linalg import pinv as pseudoinverse\n",
    "# compute the example matrix from the assignment\n",
    "m = np.array([\n",
    "    [-1, 1, 0],\n",
    "    [-1, 0, 1],\n",
    "    [0, -1, 1]\n",
    "])\n",
    "p = pseudoinverse(m)\n",
    "circular_coordinates(p @ (- np.array([1, 0,0])))"
   ]
  },
  {
   "cell_type": "code",
   "execution_count": 26,
   "metadata": {},
   "outputs": [],
   "source": [
    "def compute(D, alpha, r, prime):\n",
    "    \"\"\"\n",
    "    :param D: Distance matrix\n",
    "    :param alpha: representative co-cycle\n",
    "    :param r: threshold\n",
    "    :param prime: prime field coefficients\n",
    "    \"\"\"\n",
    "    def distance(i, j):\n",
    "        return D[i,j]\n",
    "    # alpha is a representative co-cycle and we can do the\n",
    "    # conversion to our fancy thingy\n",
    "    representative = Representative(alpha)\n",
    "    alpha_r = representative.project(distance, threshold)"
   ]
  },
  {
   "cell_type": "code",
   "execution_count": null,
   "metadata": {},
   "outputs": [],
   "source": []
  },
  {
   "cell_type": "code",
   "execution_count": null,
   "metadata": {},
   "outputs": [],
   "source": []
  }
 ],
 "metadata": {
  "kernelspec": {
   "display_name": "Python 3",
   "language": "python",
   "name": "python3"
  },
  "language_info": {
   "codemirror_mode": {
    "name": "ipython",
    "version": 3
   },
   "file_extension": ".py",
   "mimetype": "text/x-python",
   "name": "python",
   "nbconvert_exporter": "python",
   "pygments_lexer": "ipython3",
   "version": "3.7.6"
  }
 },
 "nbformat": 4,
 "nbformat_minor": 4
}
