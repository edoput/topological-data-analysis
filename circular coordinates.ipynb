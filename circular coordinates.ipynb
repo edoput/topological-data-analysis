{
 "cells": [
  {
   "cell_type": "code",
   "execution_count": 4,
   "metadata": {},
   "outputs": [],
   "source": [
    "import numpy as np\n",
    "from ripser import ripser\n",
    "from presentation.representative import Representative"
   ]
  },
  {
   "cell_type": "code",
   "execution_count": 5,
   "metadata": {},
   "outputs": [],
   "source": [
    "def border_matrix(lv, le):\n",
    "    \"\"\"Computes the border matrix.\n",
    "    \n",
    "    Yes it's quadratic (len(lv) * len(le)) but who cares now.\n",
    "    \n",
    "    :param lv: list of vertices\n",
    "    :type lv: numpy.ndarray\n",
    "    :param le: list of edges\n",
    "    :type le: numpy.ndarray\n",
    "    \n",
    "    :return: the border matrix\n",
    "    :rtype: numpy.ndarray\n",
    "    \"\"\"\n",
    "    columns = len(lv)\n",
    "    rows = len(le)\n",
    "    M = np.zeros((rows, columns))\n",
    "    for c, vertex in enumerate(lv):\n",
    "        for r, edge in enumerate(le):\n",
    "            if vertex in edge:\n",
    "                start, end = edge[0], edge[1]\n",
    "                M[r,c] = 1 if vertex == start else -1\n",
    "    return M\n",
    "\n",
    "def basis_from_edges(E):\n",
    "    \"\"\"Returns a sequence of the edges from the matrix E.\n",
    "    \n",
    "    Given the edge matrix we compute the basis\n",
    "    for the chains by taking all the edges from E\n",
    "    and returning the pairs [i,j].\n",
    "    \n",
    "    :param E: the edges matrix.\n",
    "    :type E: numpy.ndarray\n",
    "    \n",
    "    :return: sequence of edges in form [i,j]\n",
    "    :rtype: numpy.ndarray\n",
    "    \"\"\"\n",
    "    ones = np.triu(E)\n",
    "    return np.transpose(ones.nonzero())\n",
    "\n",
    "import enum\n",
    "class Operator(enum.Enum):\n",
    "    BORDER = 0\n",
    "    CO_BORDER = 1\n",
    "\n",
    "def from_distance(D, operator=Operator.BORDER, threshold=np.infty):\n",
    "    \"\"\"Returns the operator matrix associated to the threshold filtration.\n",
    "    \n",
    "    :param D: The distance matrix for your data set.\n",
    "    :type D: numpy.ndarry, shape = (k,k)\n",
    "    \n",
    "    :param operator: which operator matrix to compute.\n",
    "    :type operator: Operator\n",
    "    \n",
    "    :param threshold: edges longer than threshold will not be computed.\n",
    "    :type threshold: np.single | np.double | float\n",
    "    \n",
    "    :return: (matrix associated with (co)-border operator, edges matrix, edges base)\n",
    "    \n",
    "    :rtype: (numpy.ndarray, numpy.ndarray, numpy.ndarray)\n",
    "    \n",
    "    :important: the return matrix is expressed in the edge base\n",
    "    \"\"\"\n",
    "    # edges[r,c] == True if there is an edge from r to c\n",
    "    # that fits the threshold distance\n",
    "    under_threshold = (D <= threshold) & (D > 0)\n",
    "    edges = under_threshold.astype(int)\n",
    "    # there is an edge between r and c when edges[r,c] == 1\n",
    "    # but we need to put the correct sign in the (co)border\n",
    "    # matrix as it is 1 IFF r < c and -1 otherwise\n",
    "    ones = np.triu(edges)\n",
    "    edge_base = basis_from_edges(ones)\n",
    "    oriented_edges = ones - ones.T\n",
    "    # now we have edges with orientation and we can compute\n",
    "    # our border matrix in the basis computed\n",
    "    (vertices_num, _) = D.shape\n",
    "    matrix = border_matrix(range(vertices_num), edge_base)\n",
    "    return matrix if operator is Operator.BORDER else matrix.T, oriented_edges, edge_base"
   ]
  },
  {
   "cell_type": "code",
   "execution_count": 19,
   "metadata": {},
   "outputs": [],
   "source": [
    "# let's make the distance for a triangle\n",
    "distance = np.array([\n",
    "    [0, 3, 4],\n",
    "    [3, 0, 6],\n",
    "    [4, 5, 0]\n",
    "])\n",
    "\n",
    "op, edges, basis = from_distance(distance, operator=Operator.CO_BORDER)\n"
   ]
  },
  {
   "cell_type": "code",
   "execution_count": 20,
   "metadata": {},
   "outputs": [],
   "source": [
    "def transform_basis(alpha, basis):\n",
    "    \"\"\"Transform the co-cycle alpha to a vector\n",
    "    represented in basis.\n",
    "    \n",
    "    :param alpha: rows of k columns, up to k-1 are the vertices of\n",
    "    my simplex, column k is the coefficent\n",
    "    :type alpha: numpy.ndarray\n",
    "    \n",
    "    :param basis: rows containing the simplicis in my basis\n",
    "    :type basis: numpy.ndarray\n",
    "    \n",
    "    :return: alpha represented in basis\n",
    "    :rtype: numpy.ndarray\n",
    "    \"\"\"\n",
    "    components = np.zeros((1, len(basis)), dtype=int)\n",
    "    for a in alpha:\n",
    "        for i, b in enumerate(basis):\n",
    "            if np.all(a[:2] == b):\n",
    "                components[0, i] = a[2]\n",
    "                break\n",
    "        else:\n",
    "            # this will be executed if\n",
    "            # break is never reached\n",
    "            raise ValueError(\"simplex {} is not in basis\".format(a[:-1]))\n",
    "    return components\n",
    "\n",
    "def circular_coordinates(p):\n",
    "    \"\"\"Transform to circular coordinates.\n",
    "    \n",
    "    Returns the same coordinates but modulo Z\n",
    "    and in the range [0,1)\n",
    "    \n",
    "    :param p: coordinates\n",
    "    :type p: numpy.ndarray\n",
    "    :rtype: numpy.ndarray\n",
    "    \"\"\"\n",
    "    fractional = p - np.trunc(p)\n",
    "    correction = np.floor(fractional)\n",
    "    return fractional - correction"
   ]
  },
  {
   "cell_type": "code",
   "execution_count": 21,
   "metadata": {},
   "outputs": [],
   "source": [
    "a = np.array([\n",
    "    [0, 1, 1],\n",
    "    [0, 2, 1]\n",
    "])\n",
    "b = np.array([\n",
    "    [0, 1, 16],\n",
    "    [0, 2, 1]\n",
    "])\n",
    "basis = np.array([\n",
    "    [0,2],\n",
    "    [0,1],\n",
    "    [1,2],\n",
    "])\n",
    "# outputs array([1, 1, 0])\n",
    "transform_basis(a, basis)\n",
    "# outputs array([1, 16, 0])\n",
    "transform_basis(b, basis)\n",
    "\n",
    "error = np.array([\n",
    "    [1, 0, 1] # the simplex [0,1] is not in the basis\n",
    "])\n",
    "try:\n",
    "    # this will error\n",
    "    transform_basis(error, basis)\n",
    "except:\n",
    "    ..."
   ]
  },
  {
   "cell_type": "code",
   "execution_count": 22,
   "metadata": {},
   "outputs": [
    {
     "data": {
      "text/plain": [
       "array([3.33333333e-01, 6.66666667e-01, 5.48387791e-17])"
      ]
     },
     "execution_count": 22,
     "metadata": {},
     "output_type": "execute_result"
    }
   ],
   "source": [
    "from numpy.linalg import pinv as pseudoinverse\n",
    "# compute the example matrix from the assignment\n",
    "m = np.array([\n",
    "    [-1, 1, 0],\n",
    "    [-1, 0, 1],\n",
    "    [0, -1, 1]\n",
    "])\n",
    "p = pseudoinverse(m)\n",
    "circular_coordinates(p @ (- np.array([1, 0,0])))"
   ]
  },
  {
   "cell_type": "code",
   "execution_count": 29,
   "metadata": {},
   "outputs": [],
   "source": [
    "def compute(D, alpha, r, prime):\n",
    "    \"\"\"\n",
    "    :param D: Distance matrix\n",
    "    :param alpha: representative co-cycle\n",
    "    :param r: threshold\n",
    "    :param prime: prime field coefficients\n",
    "    \"\"\"\n",
    "    def distance(i, j):\n",
    "        \"\"\"wraps distance matrix to make it callable\"\"\"\n",
    "        return D[i,j]\n",
    "    # alpha is a representative co-cycle and we can do the\n",
    "    # conversion to our fancy thingy\n",
    "    representative = Representative(alpha)\n",
    "    alpha_r = representative.project(distance, r)._rows\n",
    "    cap = (prime-1)/2\n",
    "    to_reduce = (alpha_r > cap).astype(int) # place a 1 when bigger than cap\n",
    "    lift = alpha_r - prime * to_reduce\n",
    "    ## TODO lift from Z_p to Z\n",
    "    co_border, edges, basis = from_distance(D, operator=Operator.CO_BORDER)\n",
    "    b = transform_basis(lift, basis)\n",
    "    p = pseudoinverse(co_border)\n",
    "    y = p @ (- b.T)\n",
    "    return co_border, edges, basis, b, y"
   ]
  },
  {
   "cell_type": "code",
   "execution_count": 30,
   "metadata": {},
   "outputs": [
    {
     "data": {
      "text/plain": [
       "(array([[ 5.55111512e-17],\n",
       "        [-3.33333333e-01],\n",
       "        [-3.33333333e-01]]),\n",
       " array([[5.55111512e-17],\n",
       "        [6.66666667e-01],\n",
       "        [6.66666667e-01]]))"
      ]
     },
     "execution_count": 30,
     "metadata": {},
     "output_type": "execute_result"
    }
   ],
   "source": [
    "_, _, _, _, y = compute(distance, a, np.infty, 17)\n",
    "y, circular_coordinates(y)"
   ]
  },
  {
   "cell_type": "code",
   "execution_count": null,
   "metadata": {},
   "outputs": [],
   "source": []
  },
  {
   "cell_type": "code",
   "execution_count": null,
   "metadata": {},
   "outputs": [],
   "source": []
  }
 ],
 "metadata": {
  "kernelspec": {
   "display_name": "Python 3",
   "language": "python",
   "name": "python3"
  },
  "language_info": {
   "codemirror_mode": {
    "name": "ipython",
    "version": 3
   },
   "file_extension": ".py",
   "mimetype": "text/x-python",
   "name": "python",
   "nbconvert_exporter": "python",
   "pygments_lexer": "ipython3",
   "version": "3.7.7"
  }
 },
 "nbformat": 4,
 "nbformat_minor": 4
}
