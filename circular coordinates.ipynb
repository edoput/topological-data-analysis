{
 "cells": [
  {
   "cell_type": "code",
   "execution_count": 1,
   "metadata": {},
   "outputs": [],
   "source": [
    "import numpy as np\n",
    "import matplotlib.pyplot as plt\n",
    "from ripser import ripser\n",
    "from persim import plot_diagrams\n",
    "import tadasets\n",
    "from presentation.result import RipserResult\n"
   ]
  },
  {
   "cell_type": "code",
   "execution_count": 2,
   "metadata": {},
   "outputs": [],
   "source": [
    "def coborder_matrix(lv, le):\n",
    "    \"\"\"\n",
    "    Create the coborder matrix for the list of\n",
    "    vertices lv in the basis given by the list of edges le.\n",
    "    \n",
    "    Yes it's quadratic (len(lv) * len(le)) but who cares now.\n",
    "    \n",
    "    T : can be compared for equality\n",
    "    lv: list of T\n",
    "    le: list of sequence(T)\n",
    "    \"\"\"\n",
    "    columns = len(lv)\n",
    "    rows = len(le)\n",
    "    M = np.zeros((rows, columns))\n",
    "    for c, vertex in enumerate(lv):\n",
    "        for r, edge in enumerate(le):\n",
    "            if vertex in edge:\n",
    "                start, end = edge[0], edge[1]\n",
    "                M[r,c] = -1 if vertex == start else 1\n",
    "    return M\n",
    "\n",
    "import enum\n",
    "class Operator(enum.Enum):\n",
    "    BORDER = 0\n",
    "    CO_BORDER = 1\n",
    "\n",
    "def from_distance(D, operator=Operator.BORDER, threshold=np.infty):\n",
    "    \"\"\"Returns the operator matrix associated to the threshold filtration.\n",
    "    \n",
    "    Given a distance matrix between vertices we can compute\n",
    "    the (co)border operator matrix by looking at the distances\n",
    "    under threshold to create edges and then create the border\n",
    "    operator matrix. The co-border matrix is just the transposition\n",
    "    so the computation is the same.\n",
    "    \"\"\"\n",
    "    # edges[r,c] == True if there is an edge from r to c\n",
    "    # that fits the threshold distance\n",
    "    under_threshold = (D <= threshold) & (D > 0) # do we need to always have an edge over a vertex itself?\n",
    "    edges = under_threshold.astype(int)\n",
    "    # there is an edge between r and c when edges[r,c] == 1\n",
    "    # but we need to put the correct sign in the (co)border\n",
    "    # matrix as it is 1 IFF r < c and -1 otherwise\n",
    "    ones = np.triu(edges)\n",
    "    oriented_edges = ones - ones.T\n",
    "    # now we have edges with orientation and we can compute\n",
    "    # our border matrix\n",
    "    # there are n vertices to take care of and m edges\n",
    "    (vertices_num, _) = D.shape\n",
    "    basis_dimension = vertices_num * (vertices_num + 1)\n",
    "    matrix = np.zeros((basis_dimension, basis_dimension), dtype=int)\n",
    "    iterator = np.nditer(oriented_edges, flags=['multi_index'])\n",
    "    edges_num = vertices_num *(vertices_num -1)\n",
    "    while not iterator.finished:\n",
    "        (start, end) = iterator.multi_index\n",
    "        #if start == end: # there cannot be an edge on the same vertex\n",
    "        #    iterator.iternext()\n",
    "        #    continue\n",
    "        if iterator[0] == 1:\n",
    "            # there is an edge from start to end\n",
    "            column = vertices_num * (start + 1) + end\n",
    "            matrix[start, column] = 1\n",
    "            matrix[end, column] = -1\n",
    "        iterator.iternext()\n",
    "    # we also have put in the basis edges such as (i,i)\n",
    "    # which should not be there\n",
    "    # fortunately this is an easy list of columne/rows to drop\n",
    "    drop = [vertices_num * (i + 1) + i for i in range(vertices_num)]\n",
    "    wo_columns = np.delete(matrix, drop, axis=1)\n",
    "    wo_rows = np.delete(wo_columns, drop, axis=0)        \n",
    "    return wo_rows if operator is Operator.BORDER else wo_rows.T, oriented_edges "
   ]
  },
  {
   "cell_type": "code",
   "execution_count": 3,
   "metadata": {},
   "outputs": [],
   "source": [
    "def circular_coordinates(p):\n",
    "    \"\"\"\n",
    "    Returns the same coordinates but modulo Z\n",
    "    and in the range [0,1)\n",
    "    \"\"\"\n",
    "    fractional = p - np.trunc(p)\n",
    "    correction = np.floor(fractional)\n",
    "    return fractional - correction"
   ]
  },
  {
   "cell_type": "code",
   "execution_count": 4,
   "metadata": {},
   "outputs": [],
   "source": [
    "def drawLineColored(X, C):\n",
    "    for i in range(X.shape[0]-1):\n",
    "        plt.plot(X[i:i+2, 0], X[i:i+2, 1], c=C[i, :], lineWidth = 3)\n",
    "\n",
    "def plotCocycle2D(D, X, cocycle, thresh, width=20, height=10):\n",
    "    \"\"\"\n",
    "    Given a 2D point cloud X, display a cocycle projected\n",
    "    onto edges under a given threshold \"thresh\"\n",
    "    \n",
    "    D : distance matrix\n",
    "    X : positions of my vertices\n",
    "    cocycle :\n",
    "    thresh :\n",
    "    width & height: plot dimensions\n",
    "    \"\"\"\n",
    "    N = X.shape[0]\n",
    "    t = np.linspace(0, 1, 10)\n",
    "    c = plt.get_cmap('Greys')\n",
    "    plt.figure(figsize=(width,height))\n",
    "    C = c(np.array(np.round(np.linspace(0, 255, len(t))), dtype=np.int32))\n",
    "    C = C[:, 0:3]\n",
    "\n",
    "    for i in range(N):\n",
    "        for j in range(N):\n",
    "            if D[i, j] <= thresh:\n",
    "                Y = np.zeros((len(t), 2))\n",
    "                Y[:, 0] = X[i, 0] + t*(X[j, 0] - X[i, 0])\n",
    "                Y[:, 1] = X[i, 1] + t*(X[j, 1] - X[i, 1])\n",
    "                drawLineColored(Y, C)\n",
    "    # Plot cocycle projected to edges under the chosen threshold\n",
    "    for k in range(cocycle.shape[0]):\n",
    "        # this edge goes from vertex i to vertex j\n",
    "        # we associate val to the edge\n",
    "        [i, j, val] = cocycle[k, :]\n",
    "        # if the distance between two vertices is less\n",
    "        # than the threshold then we can plot it\n",
    "        if D[i, j] <= thresh:\n",
    "            i, j = min(i, j), max(i, j)\n",
    "            a = 0.5*(X[i, :] + X[j, :])\n",
    "            plt.text(a[0], a[1], '%g'%val, color='b', fontsize=18)\n",
    "            \n",
    "    # always plot vertex labels otherwise it gets too confusing\n",
    "    for i in range(N):\n",
    "        plt.text(X[i, 0], X[i, 1], '%i'%i, color='r', fontsize=18)\n",
    "    plt.axis('equal')\n"
   ]
  },
  {
   "cell_type": "code",
   "execution_count": 5,
   "metadata": {},
   "outputs": [
    {
     "data": {
      "image/png": "[encoded data removed]",
      "text/plain": [
       "<Figure size 432x288 with 1 Axes>"
      ]
     },
     "metadata": {
      "needs_background": "light"
     },
     "output_type": "display_data"
    }
   ],
   "source": [
    "np.random.seed(9)\n",
    "# x = tadasets.dsphere(n=12, d=1, noise=0.1)\n",
    "\n",
    "N=20\n",
    "t = np.linspace(0, 2 * np.pi ,N , endpoint=False)\n",
    "a = np.transpose([0.5 + np.cos(t), np.sin(t)]) + 0.4 * np.random.random((N,2))\n",
    "#b = np.transpose([-0.5 + np.cos(t), np.sin(t)]) + 0.4 * np.random.random((N,2))\n",
    "x = a#np.concatenate([a,b])\n",
    "plt.scatter(x[:, 0], x[:, 1])\n",
    "plt.axis('equal')\n",
    "plt.show()\n"
   ]
  },
  {
   "cell_type": "code",
   "execution_count": 6,
   "metadata": {},
   "outputs": [],
   "source": [
    "result = ripser(x, coeff=17, maxdim=2, do_cocycles=True)\n",
    "diagrams = result['dgms']\n",
    "cocycles = result['cocycles']\n",
    "D = result['dperm2all']"
   ]
  },
  {
   "cell_type": "code",
   "execution_count": 7,
   "metadata": {},
   "outputs": [],
   "source": [
    "def distance(i,j):\n",
    "    return result['dperm2all'][i,j]"
   ]
  },
  {
   "cell_type": "code",
   "execution_count": 8,
   "metadata": {},
   "outputs": [
    {
     "data": {
      "text/plain": [
       "array([3.33333333e-01, 6.66666667e-01, 5.48387791e-17])"
      ]
     },
     "execution_count": 8,
     "metadata": {},
     "output_type": "execute_result"
    }
   ],
   "source": [
    "from numpy.linalg import pinv as pseudoinverse\n",
    "m = np.array([[-1, 1, 0], [-1, 0, 1] , [0, -1, 1]])\n",
    "p = pseudoinverse(m)\n",
    "circular_coordinates(p @ (- np.array([1, 0,0])))"
   ]
  },
  {
   "cell_type": "code",
   "execution_count": 9,
   "metadata": {},
   "outputs": [],
   "source": [
    "def compute(D, alpha, r, prime):\n",
    "    \"\"\"\n",
    "    :param D: Distance matrix\n",
    "    :param alpha: representative co-cycle\n",
    "    :param r: threshold\n",
    "    :param prime: prime field coefficients\n",
    "    \"\"\"\n",
    "    def distance(i, j):\n",
    "        return D[i,j]\n",
    "    # alpha is a representative co-cycle and we can do the\n",
    "    # conversion to our fancy thingy\n",
    "    representative = Representative(alpha)\n",
    "    alpha_r = representative.project(distance, threshold)"
   ]
  },
  {
   "cell_type": "code",
   "execution_count": 17,
   "metadata": {},
   "outputs": [
    {
     "ename": "AttributeError",
     "evalue": "'CoHomology' object has no attribute 'H0'",
     "output_type": "error",
     "traceback": [
      "\u001b[0;31m---------------------------------------------------------------------------\u001b[0m",
      "\u001b[0;31mAttributeError\u001b[0m                            Traceback (most recent call last)",
      "\u001b[0;32m<ipython-input-17-9a7e03ed9776>\u001b[0m in \u001b[0;36m<module>\u001b[0;34m\u001b[0m\n\u001b[1;32m      1\u001b[0m \u001b[0mr\u001b[0m \u001b[0;34m=\u001b[0m \u001b[0mRipserResult\u001b[0m\u001b[0;34m(\u001b[0m\u001b[0mx\u001b[0m\u001b[0;34m,\u001b[0m \u001b[0mresult\u001b[0m\u001b[0;34m)\u001b[0m\u001b[0;34m\u001b[0m\u001b[0;34m\u001b[0m\u001b[0m\n\u001b[0;32m----> 2\u001b[0;31m \u001b[0mr\u001b[0m\u001b[0;34m.\u001b[0m\u001b[0mcohomology\u001b[0m\u001b[0;34m.\u001b[0m\u001b[0mH0\u001b[0m\u001b[0;34m\u001b[0m\u001b[0;34m\u001b[0m\u001b[0m\n\u001b[0m",
      "\u001b[0;31mAttributeError\u001b[0m: 'CoHomology' object has no attribute 'H0'"
     ]
    }
   ],
   "source": [
    "r = RipserResult(x, result)\n",
    "r.cohomology.H0"
   ]
  },
  {
   "cell_type": "code",
   "execution_count": null,
   "metadata": {},
   "outputs": [],
   "source": []
  }
 ],
 "metadata": {
  "kernelspec": {
   "display_name": "Python 3",
   "language": "python",
   "name": "python3"
  },
  "language_info": {
   "codemirror_mode": {
    "name": "ipython",
    "version": 3
   },
   "file_extension": ".py",
   "mimetype": "text/x-python",
   "name": "python",
   "nbconvert_exporter": "python",
   "pygments_lexer": "ipython3",
   "version": "3.7.6"
  }
 },
 "nbformat": 4,
 "nbformat_minor": 4
}
